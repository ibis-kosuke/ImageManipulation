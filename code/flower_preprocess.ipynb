{
 "cells": [
  {
   "cell_type": "code",
   "execution_count": 1,
   "metadata": {},
   "outputs": [],
   "source": [
    "import os\n",
    "import pickle as pkl\n",
    "import numpy as np\n",
    "from PIL import Image"
   ]
  },
  {
   "cell_type": "code",
   "execution_count": 2,
   "metadata": {},
   "outputs": [],
   "source": [
    "data_dir = '/data/unagi0/ktokitake/encdecmodel/flowers'\n",
    "with open(data_dir+'/oxford_files.txt', 'r') as f:\n",
    "    filenames = f.readlines()\n",
    "filenames = list(map(lambda x: x.strip('.jpg\\n'), filenames))"
   ]
  },
  {
   "cell_type": "code",
   "execution_count": 3,
   "metadata": {},
   "outputs": [],
   "source": [
    "with open(data_dir+'/oxford_labels.txt', 'r') as f:\n",
    "    labels = f.readlines()\n",
    "labels = list(map(lambda x: x.strip(), labels))"
   ]
  },
  {
   "cell_type": "code",
   "execution_count": 4,
   "metadata": {},
   "outputs": [],
   "source": [
    "trainvalids = np.arange(21,103)\n",
    "testids = np.arange(1,21)"
   ]
  },
  {
   "cell_type": "code",
   "execution_count": 28,
   "metadata": {},
   "outputs": [],
   "source": [
    "###make images directory ### \n",
    "for i, idx in enumerate(labels):\n",
    "    f_name = filenames[i]\n",
    "    img = Image.open(os.path.join(data_dir, 'jpg', '%s.jpg' % f_name)).convert('RGB')\n",
    "    dir_name = 'class_{:05d}'.format(int(idx))\n",
    "    dir_path = os.path.join(data_dir, 'images', dir_name)\n",
    "    if not os.path.exists(dir_path):\n",
    "        os.makedirs(dir_path)\n",
    "    img_path = os.path.join(dir_path, '%s.jpg' % f_name)\n",
    "    img.save(img_path)\n"
   ]
  },
  {
   "cell_type": "code",
   "execution_count": 17,
   "metadata": {},
   "outputs": [],
   "source": [
    "### make filenames and class_info ### \n",
    "train_names = []\n",
    "train_class_info=[]\n",
    "test_names = []\n",
    "test_class_info= []\n",
    "for i, idx in enumerate(labels):\n",
    "    idx = int(idx)\n",
    "    dir_name= 'class_{:05d}'.format(idx)\n",
    "    if idx in trainvalids:\n",
    "        train_names.append(os.path.join(dir_name, filenames[i]))\n",
    "        train_class_info.append(idx)\n",
    "    else:\n",
    "        test_names.append(os.path.join(dir_name, filenames[i]))\n",
    "        test_class_info.append(idx)\n",
    "    "
   ]
  },
  {
   "cell_type": "code",
   "execution_count": 19,
   "metadata": {},
   "outputs": [],
   "source": [
    "train_path = os.path.join(data_dir, 'train')\n",
    "test_path = os.path.join(data_dir, 'test')\n",
    "#os.makedirs(train_path)\n",
    "#os.makedirs(test_path)\n",
    "train_filenames_path = os.path.join(train_path, 'filenames.pickle')\n",
    "train_class_info_path = os.path.join(train_path, 'class_info.pickle')\n",
    "test_filenames_path = os.path.join(test_path, 'filenames.pickle')\n",
    "test_class_info_path = os.path.join(test_path, 'class_info.pickle')\n",
    "\n",
    "with open(train_filenames_path, 'wb') as f:\n",
    "    pkl.dump(train_names, f)\n",
    "with open(train_class_info_path, 'wb') as f:\n",
    "    pkl.dump(train_class_info, f)\n",
    "with open(test_filenames_path, 'wb' ) as f:\n",
    "    pkl.dump(test_names, f)\n",
    "with open(test_class_info_path, 'wb' ) as f:\n",
    "    pkl.dump(test_class_info, f)"
   ]
  },
  {
   "cell_type": "code",
   "execution_count": 20,
   "metadata": {},
   "outputs": [
    {
     "name": "stdout",
     "output_type": "stream",
     "text": [
      "[77, 77, 77, 77, 77, 77, 77, 77, 77, 77]\n"
     ]
    }
   ],
   "source": [
    "print(train_class_info[:10])\n"
   ]
  },
  {
   "cell_type": "code",
   "execution_count": null,
   "metadata": {},
   "outputs": [],
   "source": []
  }
 ],
 "metadata": {
  "kernelspec": {
   "display_name": "Python 3",
   "language": "python",
   "name": "python3"
  },
  "language_info": {
   "codemirror_mode": {
    "name": "ipython",
    "version": 3
   },
   "file_extension": ".py",
   "mimetype": "text/x-python",
   "name": "python",
   "nbconvert_exporter": "python",
   "pygments_lexer": "ipython3",
   "version": "3.7.3"
  }
 },
 "nbformat": 4,
 "nbformat_minor": 2
}
