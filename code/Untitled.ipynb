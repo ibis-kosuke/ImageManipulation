{
 "cells": [
  {
   "cell_type": "code",
   "execution_count": 12,
   "metadata": {},
   "outputs": [],
   "source": [
    "import os\n",
    "import matplotlib.pyplot as plt\n",
    "import numpy as np"
   ]
  },
  {
   "cell_type": "code",
   "execution_count": 2,
   "metadata": {},
   "outputs": [],
   "source": [
    "data_dir = '/data/unagi0/ktokitake/encdecmodel/birds/output'\n",
    "netG_path  = 'birds_EncDecModel_2021_01_01_14_54_54'\n",
    "file_path = os.path.join(data_dir, netG_path, 'log_file')\n",
    "with open(file_path, 'r') as f:\n",
    "    lines = f.readlines()\n",
    "    \n"
   ]
  },
  {
   "cell_type": "code",
   "execution_count": 7,
   "metadata": {
    "collapsed": true
   },
   "outputs": [
    {
     "name": "stdout",
     "output_type": "stream",
     "text": [
      " diff: 0.435\n",
      " diff: 0.379\n",
      " diff: 0.367\n",
      " diff: 0.369\n",
      " diff: 0.374\n",
      " diff: 0.371\n",
      " diff: 0.365\n",
      " diff: 0.358\n",
      " diff: 0.358\n",
      " diff: 0.351\n",
      " diff: 0.347\n",
      " diff: 0.351\n",
      " diff: 0.348\n",
      " diff: 0.343\n",
      " diff: 0.345\n",
      " diff: 0.342\n",
      " diff: 0.339\n",
      " diff: 0.339\n",
      " diff: 0.336\n",
      " diff: 0.334\n",
      " diff: 0.330\n",
      " diff: 0.325\n",
      " diff: 0.326\n",
      " diff: 0.322\n",
      " diff: 0.320\n",
      " diff: 0.322\n",
      " diff: 0.322\n",
      " diff: 0.322\n",
      " diff: 0.321\n",
      " diff: 0.320\n",
      " diff: 0.315\n",
      " diff: 0.313\n",
      " diff: 0.314\n",
      " diff: 0.315\n",
      " diff: 0.312\n",
      " diff: 0.315\n",
      " diff: 0.316\n",
      " diff: 0.312\n",
      " diff: 0.312\n",
      " diff: 0.312\n",
      " diff: 0.313\n",
      " diff: 0.318\n",
      " diff: 0.313\n",
      " diff: 0.308\n",
      " diff: 0.309\n",
      " diff: 0.307\n",
      " diff: 0.309\n",
      " diff: 0.305\n",
      " diff: 0.304\n",
      " diff: 0.307\n",
      " diff: 0.307\n",
      " diff: 0.307\n",
      " diff: 0.305\n",
      " diff: 0.306\n",
      " diff: 0.310\n",
      " diff: 0.309\n",
      " diff: 0.310\n",
      " diff: 0.303\n",
      " diff: 0.312\n",
      " diff: 0.314\n",
      " diff: 0.318\n",
      " diff: 0.314\n",
      " diff: 0.314\n",
      " diff: 0.315\n",
      " diff: 0.314\n",
      " diff: 0.310\n",
      " diff: 0.309\n",
      " diff: 0.309\n",
      " diff: 0.312\n",
      " diff: 0.314\n",
      " diff: 0.312\n",
      " diff: 0.315\n",
      " diff: 0.310\n",
      " diff: 0.311\n",
      " diff: 0.308\n",
      " diff: 0.311\n",
      " diff: 0.312\n",
      " diff: 0.316\n",
      " diff: 0.315\n",
      " diff: 0.312\n",
      " diff: 0.316\n",
      " diff: 0.315\n",
      " diff: 0.318\n",
      " diff: 0.322\n",
      " diff: 0.318\n",
      " diff: 0.319\n",
      " diff: 0.316\n",
      " diff: 0.315\n",
      " diff: 0.309\n",
      " diff: 0.314\n",
      " diff: 0.311\n",
      " diff: 0.321\n",
      " diff: 0.317\n",
      " diff: 0.318\n",
      " diff: 0.319\n",
      " diff: 0.323\n",
      " diff: 0.318\n",
      " diff: 0.322\n",
      " diff: 0.320\n",
      " diff: 0.319\n",
      " diff: 0.318\n",
      " diff: 0.325\n",
      " diff: 0.318\n",
      " diff: 0.319\n",
      " diff: 0.324\n",
      " diff: 0.327\n",
      " diff: 0.321\n",
      " diff: 0.325\n",
      " diff: 0.326\n",
      " diff: 0.321\n",
      " diff: 0.328\n",
      " diff: 0.329\n",
      " diff: 0.323\n",
      " diff: 0.323\n",
      " diff: 0.321\n",
      " diff: 0.319\n",
      " diff: 0.331\n",
      " diff: 0.324\n",
      " diff: 0.323\n",
      " diff: 0.332\n"
     ]
    }
   ],
   "source": [
    "diffs, sims, mps = [], [], []\n",
    "for line in lines:\n",
    "    line = line.strip().split(',')\n",
    "    if len(line) !=4:\n",
    "        continue\n",
    "    diff = float(line[1].split(':')[1][1:])\n",
    "    sim = float(line[2].split(':')[1])\n",
    "    mp = float(line[3].split(':')[1])\n",
    "    diffs.append(diff)\n",
    "    sims.append(sim)\n",
    "    mps.append(mp)\n",
    "        \n"
   ]
  },
  {
   "cell_type": "code",
   "execution_count": 14,
   "metadata": {},
   "outputs": [
    {
     "data": {
      "text/plain": [
       "<matplotlib.legend.Legend at 0x7fbb6a0bc470>"
      ]
     },
     "execution_count": 14,
     "metadata": {},
     "output_type": "execute_result"
    },
    {
     "data": {
      "image/png": "[encoded data removed]",
      "text/plain": [
       "<Figure size 432x288 with 1 Axes>"
      ]
     },
     "metadata": {
      "needs_background": "light"
     },
     "output_type": "display_data"
    }
   ],
   "source": [
    "plt.plot(np.arange(120), diffs, label='diffs')\n",
    "plt.plot(np.arange(120), sims, label='sims')\n",
    "plt.plot(np.arange(120), mps, label='mps')\n",
    "plt.legend()\n",
    "\n"
   ]
  },
  {
   "cell_type": "code",
   "execution_count": null,
   "metadata": {},
   "outputs": [],
   "source": []
  }
 ],
 "metadata": {
  "kernelspec": {
   "display_name": "Python 3",
   "language": "python",
   "name": "python3"
  },
  "language_info": {
   "codemirror_mode": {
    "name": "ipython",
    "version": 3
   },
   "file_extension": ".py",
   "mimetype": "text/x-python",
   "name": "python",
   "nbconvert_exporter": "python",
   "pygments_lexer": "ipython3",
   "version": "3.7.3"
  }
 },
 "nbformat": 4,
 "nbformat_minor": 2
}
